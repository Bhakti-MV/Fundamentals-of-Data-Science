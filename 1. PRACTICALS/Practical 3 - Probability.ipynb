{
 "cells": [
  {
   "cell_type": "markdown",
   "id": "6ffc0567",
   "metadata": {},
   "source": [
    "# Practical 3 - Probability"
   ]
  },
  {
   "cell_type": "markdown",
   "id": "bbe54937",
   "metadata": {},
   "source": [
    "Probability is a measure of the likelihood of an event to occur. Many events cannot be predicted with total certainity. We can predict only the chance of an event to occur i.e. how likely they are to happen, using it. Probability can range in from 0 to 1, where 0 means the event to be an impossible one and 1 indicates a certain event. The probability of all the events in a sample space adds up to 1.\n",
    "\n",
    "Formula for Probability-\n",
    "The probability formula is defined as the possibility of an event to happen is equal to the ratio of the number of favourable outcomes and the total number of outcomes.\n",
    "Probability of event to happen P(E) = Number of favourable outcomes/Total number of outcomes"
   ]
  },
  {
   "cell_type": "code",
   "execution_count": 4,
   "id": "21e74408",
   "metadata": {},
   "outputs": [
    {
     "name": "stdout",
     "output_type": "stream",
     "text": [
      "Probability of getting 3 is  0.16666666666666666\n"
     ]
    }
   ],
   "source": [
    "#probability of getting 3 when a die is rolled\n",
    "ns = 6 #ns={1,2,3,4,5,6}\n",
    "na = 1 #na={3}\n",
    "pa=na/ns\n",
    "print(\"Probability of getting 3 is \",pa)"
   ]
  },
  {
   "cell_type": "code",
   "execution_count": 3,
   "id": "ab79daa2",
   "metadata": {},
   "outputs": [
    {
     "name": "stdout",
     "output_type": "stream",
     "text": [
      "Probability of atleast getting one head is  0.875\n"
     ]
    }
   ],
   "source": [
    "#probabillity of atleast getting one head when coin is tossed thrice\n",
    "ns = 8 #ns={'HHH','THH','HTH','HHT','TTH','THT','HTT','TTT'}\n",
    "na = 7 #na={'HHH','THH','HTH','HHT','TTH','THT','HTT'}\n",
    "pa=na/ns\n",
    "print('Probability of atleast getting one head is ',pa)"
   ]
  },
  {
   "cell_type": "code",
   "execution_count": 5,
   "id": "d1cd86cc",
   "metadata": {},
   "outputs": [
    {
     "name": "stdout",
     "output_type": "stream",
     "text": [
      "Probability of not getting blue jar is 0.7\n"
     ]
    }
   ],
   "source": [
    "#Glass of jar contain 5 red,3 blue and 2 green jelly beans.\n",
    "#If a jelly is chosen at random from jar, what is probability that it is not a blue\n",
    "ns=10\n",
    "na=7\n",
    "pa=na/ns\n",
    "print('Probability of not getting blue jar is',pa)"
   ]
  },
  {
   "cell_type": "markdown",
   "id": "221b939d",
   "metadata": {},
   "source": [
    "Independent and Dependent Events\n",
    "\n",
    "If the occurance of any event is completely unaffected by the occurance of any other event, such events are known as independenrt events in probability and events which are affected by other events are known as dependent events."
   ]
  },
  {
   "cell_type": "code",
   "execution_count": 6,
   "id": "3f2653ef",
   "metadata": {},
   "outputs": [
    {
     "name": "stdout",
     "output_type": "stream",
     "text": [
      "Probability that they will be alive after 20 years is 0.35\n"
     ]
    }
   ],
   "source": [
    "#If the probability that the person A will be alive in 20 years \n",
    "#is 0.7 and the probability that person B will be alive in 20 years is 0.5,\n",
    "# what is the probability that they both will be alive in 20 years?\n",
    "\n",
    "#These are independent events\n",
    "P=0.7*0.5\n",
    "print(\"Probability that they will be alive after 20 years is\",P)"
   ]
  },
  {
   "cell_type": "code",
   "execution_count": 7,
   "id": "3e7612c1",
   "metadata": {},
   "outputs": [],
   "source": [
    "def probability(number_of_events,samplespace):\n",
    "  return number_of_events/samplespace"
   ]
  },
  {
   "cell_type": "code",
   "execution_count": 8,
   "id": "ed520d86",
   "metadata": {},
   "outputs": [
    {
     "name": "stdout",
     "output_type": "stream",
     "text": [
      "Probability of getting a 4 or 5 on the first toss and 1, 2 or 3 on second toss is 0.16666666666666666\n"
     ]
    }
   ],
   "source": [
    "#A fair die is tossed twice. Find the probability of \n",
    "#getting a 4 or 5 on the first toss and a 1, 2 or 3 in the second toss\n",
    "\n",
    "pa=probability(2,6)\n",
    "pb=probability(3,6)\n",
    "P=pa*pb\n",
    "print(\"Probability of getting a 4 or 5 on the first toss and 1, 2 or 3 on second toss is\", P)"
   ]
  },
  {
   "cell_type": "code",
   "execution_count": 9,
   "id": "b0448e51",
   "metadata": {},
   "outputs": [
    {
     "name": "stdout",
     "output_type": "stream",
     "text": [
      "The probability of obtaining white, black and green in the order is  0.041666666666666664\n"
     ]
    }
   ],
   "source": [
    "# A bag contains 5 white marbles, 3 black marbels and 2 green marbels\n",
    "#In each draw, a marble is drawn from the bag and replaced. \n",
    "#In three drwas find the probability of obtaining white, black, and green in order.\n",
    "\n",
    "pa=probability(5,10)\n",
    "pb=probability(3,9)\n",
    "pc=probability(2,8)\n",
    "P=pa*pb*pc\n",
    "print('The probability of obtaining white, black and green in the order is ',P)"
   ]
  },
  {
   "cell_type": "code",
   "execution_count": 10,
   "id": "eb356d4a",
   "metadata": {},
   "outputs": [
    {
     "name": "stdout",
     "output_type": "stream",
     "text": [
      "Probability fo drawing heart or club in a deck of 52 cards is 0.5\n"
     ]
    }
   ],
   "source": [
    "#probability fo drawing heart or club in a deck of 52 cards\n",
    "\n",
    "cards=52\n",
    "hearts=13\n",
    "clubs=13\n",
    "heart_or_club=probability(13,52)+probability(13,52)\n",
    "print('Probability fo drawing heart or club in a deck of 52 cards is',heart_or_club)"
   ]
  },
  {
   "cell_type": "code",
   "execution_count": 11,
   "id": "dcc38c7e",
   "metadata": {},
   "outputs": [
    {
     "name": "stdout",
     "output_type": "stream",
     "text": [
      "Probability of drawing ace, king or queen cards from deck is  0.23076923076923078\n"
     ]
    }
   ],
   "source": [
    "#probability of drawing ace, king or queen cards from deck\n",
    "\n",
    "cards=52\n",
    "ace=4\n",
    "king=4\n",
    "queen=4\n",
    "akq=probability(4,52)+probability(4,52)+probability(4,52)\n",
    "print(\"Probability of drawing ace, king or queen cards from deck is \",akq)"
   ]
  },
  {
   "cell_type": "code",
   "execution_count": 12,
   "id": "5e7ab4d1",
   "metadata": {},
   "outputs": [
    {
     "name": "stdout",
     "output_type": "stream",
     "text": [
      "0.3076923076923077\n"
     ]
    }
   ],
   "source": [
    "#probability of getting heart or ace\n",
    "\n",
    "heart=13\n",
    "ace=4\n",
    "ace_of_hearts=1\n",
    "ha=probability(13,52)+probability(ace,52)-probability(ace_of_hearts,cards) # Additive rule\n",
    "print(ha)"
   ]
  },
  {
   "cell_type": "markdown",
   "id": "125db930",
   "metadata": {},
   "source": [
    "Complementary Events \n",
    "\n",
    "For any event E1 there exists another event E1'which represents the remaining elements of the sample space.\n",
    "\n",
    "E1 = S - E1'\n",
    "\n",
    "If a dice is rolled then the sample space S is given as S = {1, 2, 3, 4, 5, 6}.\n",
    "If the event E1 represents all the outcomes which is greater than 4, then E1 = {5, 6} and E1' = {1, 2, 3, 4}.\n",
    "\n",
    "Thus E1' is the complement of the event E1.\n",
    "\n",
    "Similarly, the complement of E1, E2, E3,......En will be represented as E1', E2', E3'.......En'."
   ]
  },
  {
   "cell_type": "code",
   "execution_count": 13,
   "id": "9c528c97",
   "metadata": {},
   "outputs": [
    {
     "name": "stdout",
     "output_type": "stream",
     "text": [
      "probability of not getting 5 is  0.8333333333333334\n"
     ]
    }
   ],
   "source": [
    "#probability of not getting 5 when a fair die is rolled\n",
    "\n",
    "ns=6 #n(s)= {1,2,3,4,5,6}\n",
    "na=1 #n(a)={5}\n",
    "pa=na/ns \n",
    "print('probability of not getting 5 is ', 1-pa)"
   ]
  },
  {
   "cell_type": "markdown",
   "id": "dfdb6e68",
   "metadata": {},
   "source": [
    "\n",
    "# Conditional Probability"
   ]
  },
  {
   "cell_type": "markdown",
   "id": "5c73f910",
   "metadata": {},
   "source": [
    "The formula for conditional probability is\n",
    "P(A|B) = P(A OR B) / P(B)\n",
    "\n",
    "The parts: P(A|B) = probability of A occuring given B occurs \n",
    "P(A OR B) = probability of both A and B occuring\n",
    "P(B) = probability of B occuring\n",
    "\n",
    "Calculate the probability a student gets an A(80% +) in math, given they miss 10 or more classes"
   ]
  },
  {
   "cell_type": "code",
   "execution_count": 20,
   "id": "09da17a8",
   "metadata": {},
   "outputs": [
    {
     "data": {
      "text/html": [
       "<div>\n",
       "<style scoped>\n",
       "    .dataframe tbody tr th:only-of-type {\n",
       "        vertical-align: middle;\n",
       "    }\n",
       "\n",
       "    .dataframe tbody tr th {\n",
       "        vertical-align: top;\n",
       "    }\n",
       "\n",
       "    .dataframe thead th {\n",
       "        text-align: right;\n",
       "    }\n",
       "</style>\n",
       "<table border=\"1\" class=\"dataframe\">\n",
       "  <thead>\n",
       "    <tr style=\"text-align: right;\">\n",
       "      <th></th>\n",
       "      <th>school</th>\n",
       "      <th>sex</th>\n",
       "      <th>age</th>\n",
       "      <th>address</th>\n",
       "      <th>famsize</th>\n",
       "      <th>Pstatus</th>\n",
       "      <th>Medu</th>\n",
       "      <th>Fedu</th>\n",
       "      <th>Mjob</th>\n",
       "      <th>Fjob</th>\n",
       "      <th>...</th>\n",
       "      <th>famrel</th>\n",
       "      <th>freetime</th>\n",
       "      <th>goout</th>\n",
       "      <th>Dalc</th>\n",
       "      <th>Walc</th>\n",
       "      <th>health</th>\n",
       "      <th>absences</th>\n",
       "      <th>G1</th>\n",
       "      <th>G2</th>\n",
       "      <th>G3</th>\n",
       "    </tr>\n",
       "  </thead>\n",
       "  <tbody>\n",
       "    <tr>\n",
       "      <th>0</th>\n",
       "      <td>GP</td>\n",
       "      <td>F</td>\n",
       "      <td>18</td>\n",
       "      <td>U</td>\n",
       "      <td>GT3</td>\n",
       "      <td>A</td>\n",
       "      <td>4</td>\n",
       "      <td>4</td>\n",
       "      <td>at_home</td>\n",
       "      <td>teacher</td>\n",
       "      <td>...</td>\n",
       "      <td>4</td>\n",
       "      <td>3</td>\n",
       "      <td>4</td>\n",
       "      <td>1</td>\n",
       "      <td>1</td>\n",
       "      <td>3</td>\n",
       "      <td>6</td>\n",
       "      <td>5</td>\n",
       "      <td>6</td>\n",
       "      <td>6</td>\n",
       "    </tr>\n",
       "    <tr>\n",
       "      <th>1</th>\n",
       "      <td>GP</td>\n",
       "      <td>F</td>\n",
       "      <td>17</td>\n",
       "      <td>U</td>\n",
       "      <td>GT3</td>\n",
       "      <td>T</td>\n",
       "      <td>1</td>\n",
       "      <td>1</td>\n",
       "      <td>at_home</td>\n",
       "      <td>other</td>\n",
       "      <td>...</td>\n",
       "      <td>5</td>\n",
       "      <td>3</td>\n",
       "      <td>3</td>\n",
       "      <td>1</td>\n",
       "      <td>1</td>\n",
       "      <td>3</td>\n",
       "      <td>4</td>\n",
       "      <td>5</td>\n",
       "      <td>5</td>\n",
       "      <td>6</td>\n",
       "    </tr>\n",
       "    <tr>\n",
       "      <th>2</th>\n",
       "      <td>GP</td>\n",
       "      <td>F</td>\n",
       "      <td>15</td>\n",
       "      <td>U</td>\n",
       "      <td>LE3</td>\n",
       "      <td>T</td>\n",
       "      <td>1</td>\n",
       "      <td>1</td>\n",
       "      <td>at_home</td>\n",
       "      <td>other</td>\n",
       "      <td>...</td>\n",
       "      <td>4</td>\n",
       "      <td>3</td>\n",
       "      <td>2</td>\n",
       "      <td>2</td>\n",
       "      <td>3</td>\n",
       "      <td>3</td>\n",
       "      <td>10</td>\n",
       "      <td>7</td>\n",
       "      <td>8</td>\n",
       "      <td>10</td>\n",
       "    </tr>\n",
       "  </tbody>\n",
       "</table>\n",
       "<p>3 rows × 33 columns</p>\n",
       "</div>"
      ],
      "text/plain": [
       "  school sex  age address famsize Pstatus  Medu  Fedu     Mjob     Fjob  ...  \\\n",
       "0     GP   F   18       U     GT3       A     4     4  at_home  teacher  ...   \n",
       "1     GP   F   17       U     GT3       T     1     1  at_home    other  ...   \n",
       "2     GP   F   15       U     LE3       T     1     1  at_home    other  ...   \n",
       "\n",
       "  famrel freetime  goout  Dalc  Walc health absences G1 G2  G3  \n",
       "0      4        3      4     1     1      3        6  5  6   6  \n",
       "1      5        3      3     1     1      3        4  5  5   6  \n",
       "2      4        3      2     2     3      3       10  7  8  10  \n",
       "\n",
       "[3 rows x 33 columns]"
      ]
     },
     "execution_count": 20,
     "metadata": {},
     "output_type": "execute_result"
    }
   ],
   "source": [
    "import pandas as pd\n",
    "import numpy as np\n",
    "df=pd.read_csv('student-mat.csv') #Student-mat.csv file \n",
    "df.head(3)"
   ]
  },
  {
   "cell_type": "code",
   "execution_count": 21,
   "id": "42c20847",
   "metadata": {},
   "outputs": [
    {
     "data": {
      "text/plain": [
       "395"
      ]
     },
     "execution_count": 21,
     "metadata": {},
     "output_type": "execute_result"
    }
   ],
   "source": [
    "len(df)"
   ]
  },
  {
   "cell_type": "markdown",
   "id": "de169aa0",
   "metadata": {},
   "source": [
    "We are only concerened with the columns, absenses (number of absenses), and G3(final grade from 0 to 20).\n",
    "\n",
    "Let us create a couple new boolean coulmns based on these columns to make ourlives easier.\n",
    "\n",
    "Add boolean column called grade_A noting is a student achieved 80% or higher as a final score. Original values are on a 0 to 20 scale so we multiply by 5."
   ]
  },
  {
   "cell_type": "code",
   "execution_count": 22,
   "id": "ff141185",
   "metadata": {},
   "outputs": [],
   "source": [
    "df['grade_A']=np.where(df['G3']*5 >= 80 , 1, 0)"
   ]
  },
  {
   "cell_type": "markdown",
   "id": "f3501ad2",
   "metadata": {},
   "source": [
    "Make another boolean class called high_absenses with a value of 1 if a student missed 10 or more classes."
   ]
  },
  {
   "cell_type": "code",
   "execution_count": 23,
   "id": "ebdce9b4",
   "metadata": {},
   "outputs": [],
   "source": [
    "df['high_absences']=np.where(df['absences']>=10,1,0)"
   ]
  },
  {
   "cell_type": "markdown",
   "id": "e6c88452",
   "metadata": {},
   "source": [
    "Add one more column to make building a pivot table easier"
   ]
  },
  {
   "cell_type": "code",
   "execution_count": 25,
   "id": "52a9f03e",
   "metadata": {},
   "outputs": [],
   "source": [
    "df['count']=1"
   ]
  },
  {
   "cell_type": "markdown",
   "id": "cf6a4b91",
   "metadata": {},
   "source": [
    "Drop all other columns and just display new added 3 columns"
   ]
  },
  {
   "cell_type": "code",
   "execution_count": 26,
   "id": "428aa19a",
   "metadata": {},
   "outputs": [
    {
     "data": {
      "text/html": [
       "<div>\n",
       "<style scoped>\n",
       "    .dataframe tbody tr th:only-of-type {\n",
       "        vertical-align: middle;\n",
       "    }\n",
       "\n",
       "    .dataframe tbody tr th {\n",
       "        vertical-align: top;\n",
       "    }\n",
       "\n",
       "    .dataframe thead th {\n",
       "        text-align: right;\n",
       "    }\n",
       "</style>\n",
       "<table border=\"1\" class=\"dataframe\">\n",
       "  <thead>\n",
       "    <tr style=\"text-align: right;\">\n",
       "      <th></th>\n",
       "      <th>grade_A</th>\n",
       "      <th>high_absences</th>\n",
       "      <th>count</th>\n",
       "    </tr>\n",
       "  </thead>\n",
       "  <tbody>\n",
       "    <tr>\n",
       "      <th>0</th>\n",
       "      <td>0</td>\n",
       "      <td>0</td>\n",
       "      <td>1</td>\n",
       "    </tr>\n",
       "    <tr>\n",
       "      <th>1</th>\n",
       "      <td>0</td>\n",
       "      <td>0</td>\n",
       "      <td>1</td>\n",
       "    </tr>\n",
       "    <tr>\n",
       "      <th>2</th>\n",
       "      <td>0</td>\n",
       "      <td>1</td>\n",
       "      <td>1</td>\n",
       "    </tr>\n",
       "    <tr>\n",
       "      <th>3</th>\n",
       "      <td>0</td>\n",
       "      <td>0</td>\n",
       "      <td>1</td>\n",
       "    </tr>\n",
       "    <tr>\n",
       "      <th>4</th>\n",
       "      <td>0</td>\n",
       "      <td>0</td>\n",
       "      <td>1</td>\n",
       "    </tr>\n",
       "  </tbody>\n",
       "</table>\n",
       "</div>"
      ],
      "text/plain": [
       "   grade_A  high_absences  count\n",
       "0        0              0      1\n",
       "1        0              0      1\n",
       "2        0              1      1\n",
       "3        0              0      1\n",
       "4        0              0      1"
      ]
     },
     "execution_count": 26,
     "metadata": {},
     "output_type": "execute_result"
    }
   ],
   "source": [
    "df=df[['grade_A','high_absences','count']]\n",
    "df.head()"
   ]
  },
  {
   "cell_type": "code",
   "execution_count": 27,
   "id": "6e627bc7",
   "metadata": {},
   "outputs": [],
   "source": [
    "final=pd.pivot_table(df,values='count',index=['grade_A'],columns=['high_absences'],\n",
    "                     aggfunc=np.size,fill_value=0)"
   ]
  },
  {
   "cell_type": "code",
   "execution_count": 28,
   "id": "bf634256",
   "metadata": {},
   "outputs": [
    {
     "name": "stdout",
     "output_type": "stream",
     "text": [
      "high_absences    0   1\n",
      "grade_A               \n",
      "0              277  78\n",
      "1               35   5\n"
     ]
    }
   ],
   "source": [
    "print(final)"
   ]
  },
  {
   "cell_type": "code",
   "execution_count": 29,
   "id": "391bdf04",
   "metadata": {},
   "outputs": [
    {
     "name": "stdout",
     "output_type": "stream",
     "text": [
      "0.10126582278481013\n"
     ]
    }
   ],
   "source": [
    "#  probability of a grade of 80% or greater\n",
    "\n",
    "Pa = (35 + 5) / (35 + 5 + 277 + 78)\n",
    "print(Pa)"
   ]
  },
  {
   "cell_type": "code",
   "execution_count": 30,
   "id": "5cfcfc5e",
   "metadata": {},
   "outputs": [
    {
     "name": "stdout",
     "output_type": "stream",
     "text": [
      "0.21012658227848102\n"
     ]
    }
   ],
   "source": [
    "Pb = (78 + 5) / (35 + 5 + 277 + 78)\n",
    "print(Pb)"
   ]
  },
  {
   "cell_type": "code",
   "execution_count": 31,
   "id": "c20eb82c",
   "metadata": {},
   "outputs": [
    {
     "name": "stdout",
     "output_type": "stream",
     "text": [
      "0.012658227848101266\n"
     ]
    }
   ],
   "source": [
    "PaAndb = 5 / (35 + 5 + 277 + 78)\n",
    "print(PaAndb)"
   ]
  },
  {
   "cell_type": "code",
   "execution_count": 32,
   "id": "47d9e2f4",
   "metadata": {},
   "outputs": [
    {
     "name": "stdout",
     "output_type": "stream",
     "text": [
      "0.060240963855421686\n"
     ]
    }
   ],
   "source": [
    "print(PaAndb / Pb)"
   ]
  },
  {
   "cell_type": "markdown",
   "id": "4813644b",
   "metadata": {},
   "source": [
    "The probability of getting at least an 80% final grade, given missing 10 or more classes is 6%."
   ]
  }
 ],
 "metadata": {
  "kernelspec": {
   "display_name": "Python 3 (ipykernel)",
   "language": "python",
   "name": "python3"
  },
  "language_info": {
   "codemirror_mode": {
    "name": "ipython",
    "version": 3
   },
   "file_extension": ".py",
   "mimetype": "text/x-python",
   "name": "python",
   "nbconvert_exporter": "python",
   "pygments_lexer": "ipython3",
   "version": "3.9.0"
  }
 },
 "nbformat": 4,
 "nbformat_minor": 5
}
