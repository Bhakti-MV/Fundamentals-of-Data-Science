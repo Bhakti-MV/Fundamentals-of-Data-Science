{
 "cells": [
  {
   "cell_type": "markdown",
   "id": "fcc3ce34",
   "metadata": {},
   "source": [
    "# Data Collection, Modelling and Compilation"
   ]
  },
  {
   "cell_type": "markdown",
   "id": "8de5f02f",
   "metadata": {},
   "source": [
    "From .csv file"
   ]
  },
  {
   "cell_type": "code",
   "execution_count": 1,
   "id": "dbef9197",
   "metadata": {},
   "outputs": [],
   "source": [
    "import pandas as pd"
   ]
  },
  {
   "cell_type": "code",
   "execution_count": 2,
   "id": "cba22c79",
   "metadata": {},
   "outputs": [],
   "source": [
    "Location = \"C:/Users/Bhakti/OneDrive/Desktop/PRACTICALS/FDS/FDS Datasets/FDS Datasets/CSV.csv\""
   ]
  },
  {
   "cell_type": "code",
   "execution_count": 3,
   "id": "fd7fdc72",
   "metadata": {},
   "outputs": [],
   "source": [
    "df = pd.read_csv(Location, header = None)"
   ]
  },
  {
   "cell_type": "code",
   "execution_count": 4,
   "id": "a1a4ffbc",
   "metadata": {},
   "outputs": [
    {
     "data": {
      "text/html": [
       "<div>\n",
       "<style scoped>\n",
       "    .dataframe tbody tr th:only-of-type {\n",
       "        vertical-align: middle;\n",
       "    }\n",
       "\n",
       "    .dataframe tbody tr th {\n",
       "        vertical-align: top;\n",
       "    }\n",
       "\n",
       "    .dataframe thead th {\n",
       "        text-align: right;\n",
       "    }\n",
       "</style>\n",
       "<table border=\"1\" class=\"dataframe\">\n",
       "  <thead>\n",
       "    <tr style=\"text-align: right;\">\n",
       "      <th></th>\n",
       "      <th>0</th>\n",
       "      <th>1</th>\n",
       "      <th>2</th>\n",
       "      <th>3</th>\n",
       "      <th>4</th>\n",
       "      <th>5</th>\n",
       "      <th>6</th>\n",
       "      <th>7</th>\n",
       "      <th>8</th>\n",
       "      <th>9</th>\n",
       "      <th>10</th>\n",
       "      <th>11</th>\n",
       "      <th>12</th>\n",
       "      <th>13</th>\n",
       "    </tr>\n",
       "  </thead>\n",
       "  <tbody>\n",
       "    <tr>\n",
       "      <th>0</th>\n",
       "      <td>Series_reference</td>\n",
       "      <td>Period</td>\n",
       "      <td>Data_value</td>\n",
       "      <td>Suppressed</td>\n",
       "      <td>STATUS</td>\n",
       "      <td>UNITS</td>\n",
       "      <td>Magnitude</td>\n",
       "      <td>Subject</td>\n",
       "      <td>Group</td>\n",
       "      <td>Series_title_1</td>\n",
       "      <td>Series_title_2</td>\n",
       "      <td>Series_title_3</td>\n",
       "      <td>Series_title_4</td>\n",
       "      <td>Series_title_5</td>\n",
       "    </tr>\n",
       "    <tr>\n",
       "      <th>1</th>\n",
       "      <td>MFGQ.SFA1CA</td>\n",
       "      <td>1992.12</td>\n",
       "      <td>2493.37</td>\n",
       "      <td>NaN</td>\n",
       "      <td>F</td>\n",
       "      <td>Dollars</td>\n",
       "      <td>6</td>\n",
       "      <td>Manufacturing Survey (ANZSIC06) - MFG</td>\n",
       "      <td>Industry by variable - Subannual Financial Col...</td>\n",
       "      <td>Meat and dairy product manufacturing</td>\n",
       "      <td>Sales (operating income)</td>\n",
       "      <td>Current prices</td>\n",
       "      <td>Unadjusted</td>\n",
       "      <td>NaN</td>\n",
       "    </tr>\n",
       "    <tr>\n",
       "      <th>2</th>\n",
       "      <td>MFGQ.SFA1CA</td>\n",
       "      <td>1993.03</td>\n",
       "      <td>3209.2</td>\n",
       "      <td>NaN</td>\n",
       "      <td>F</td>\n",
       "      <td>Dollars</td>\n",
       "      <td>6</td>\n",
       "      <td>Manufacturing Survey (ANZSIC06) - MFG</td>\n",
       "      <td>Industry by variable - Subannual Financial Col...</td>\n",
       "      <td>Meat and dairy product manufacturing</td>\n",
       "      <td>Sales (operating income)</td>\n",
       "      <td>Current prices</td>\n",
       "      <td>Unadjusted</td>\n",
       "      <td>NaN</td>\n",
       "    </tr>\n",
       "    <tr>\n",
       "      <th>3</th>\n",
       "      <td>MFGQ.SFA1CA</td>\n",
       "      <td>1993.06</td>\n",
       "      <td>2780.17</td>\n",
       "      <td>NaN</td>\n",
       "      <td>F</td>\n",
       "      <td>Dollars</td>\n",
       "      <td>6</td>\n",
       "      <td>Manufacturing Survey (ANZSIC06) - MFG</td>\n",
       "      <td>Industry by variable - Subannual Financial Col...</td>\n",
       "      <td>Meat and dairy product manufacturing</td>\n",
       "      <td>Sales (operating income)</td>\n",
       "      <td>Current prices</td>\n",
       "      <td>Unadjusted</td>\n",
       "      <td>NaN</td>\n",
       "    </tr>\n",
       "    <tr>\n",
       "      <th>4</th>\n",
       "      <td>MFGQ.SFA1CA</td>\n",
       "      <td>1993.09</td>\n",
       "      <td>1933.01</td>\n",
       "      <td>NaN</td>\n",
       "      <td>F</td>\n",
       "      <td>Dollars</td>\n",
       "      <td>6</td>\n",
       "      <td>Manufacturing Survey (ANZSIC06) - MFG</td>\n",
       "      <td>Industry by variable - Subannual Financial Col...</td>\n",
       "      <td>Meat and dairy product manufacturing</td>\n",
       "      <td>Sales (operating income)</td>\n",
       "      <td>Current prices</td>\n",
       "      <td>Unadjusted</td>\n",
       "      <td>NaN</td>\n",
       "    </tr>\n",
       "  </tbody>\n",
       "</table>\n",
       "</div>"
      ],
      "text/plain": [
       "                 0        1           2           3       4        5   \\\n",
       "0  Series_reference   Period  Data_value  Suppressed  STATUS    UNITS   \n",
       "1       MFGQ.SFA1CA  1992.12     2493.37         NaN       F  Dollars   \n",
       "2       MFGQ.SFA1CA  1993.03      3209.2         NaN       F  Dollars   \n",
       "3       MFGQ.SFA1CA  1993.06     2780.17         NaN       F  Dollars   \n",
       "4       MFGQ.SFA1CA  1993.09     1933.01         NaN       F  Dollars   \n",
       "\n",
       "          6                                      7   \\\n",
       "0  Magnitude                                Subject   \n",
       "1          6  Manufacturing Survey (ANZSIC06) - MFG   \n",
       "2          6  Manufacturing Survey (ANZSIC06) - MFG   \n",
       "3          6  Manufacturing Survey (ANZSIC06) - MFG   \n",
       "4          6  Manufacturing Survey (ANZSIC06) - MFG   \n",
       "\n",
       "                                                  8   \\\n",
       "0                                              Group   \n",
       "1  Industry by variable - Subannual Financial Col...   \n",
       "2  Industry by variable - Subannual Financial Col...   \n",
       "3  Industry by variable - Subannual Financial Col...   \n",
       "4  Industry by variable - Subannual Financial Col...   \n",
       "\n",
       "                                     9                         10  \\\n",
       "0                        Series_title_1            Series_title_2   \n",
       "1  Meat and dairy product manufacturing  Sales (operating income)   \n",
       "2  Meat and dairy product manufacturing  Sales (operating income)   \n",
       "3  Meat and dairy product manufacturing  Sales (operating income)   \n",
       "4  Meat and dairy product manufacturing  Sales (operating income)   \n",
       "\n",
       "               11              12              13  \n",
       "0  Series_title_3  Series_title_4  Series_title_5  \n",
       "1  Current prices      Unadjusted             NaN  \n",
       "2  Current prices      Unadjusted             NaN  \n",
       "3  Current prices      Unadjusted             NaN  \n",
       "4  Current prices      Unadjusted             NaN  "
      ]
     },
     "execution_count": 4,
     "metadata": {},
     "output_type": "execute_result"
    }
   ],
   "source": [
    "df.head()"
   ]
  },
  {
   "cell_type": "code",
   "execution_count": 5,
   "id": "024fac72",
   "metadata": {},
   "outputs": [],
   "source": [
    "df = pd.read_csv(Location)"
   ]
  },
  {
   "cell_type": "code",
   "execution_count": 6,
   "id": "523dcbd2",
   "metadata": {},
   "outputs": [
    {
     "data": {
      "text/html": [
       "<div>\n",
       "<style scoped>\n",
       "    .dataframe tbody tr th:only-of-type {\n",
       "        vertical-align: middle;\n",
       "    }\n",
       "\n",
       "    .dataframe tbody tr th {\n",
       "        vertical-align: top;\n",
       "    }\n",
       "\n",
       "    .dataframe thead th {\n",
       "        text-align: right;\n",
       "    }\n",
       "</style>\n",
       "<table border=\"1\" class=\"dataframe\">\n",
       "  <thead>\n",
       "    <tr style=\"text-align: right;\">\n",
       "      <th></th>\n",
       "      <th>Series_reference</th>\n",
       "      <th>Period</th>\n",
       "      <th>Data_value</th>\n",
       "      <th>Suppressed</th>\n",
       "      <th>STATUS</th>\n",
       "      <th>UNITS</th>\n",
       "      <th>Magnitude</th>\n",
       "      <th>Subject</th>\n",
       "      <th>Group</th>\n",
       "      <th>Series_title_1</th>\n",
       "      <th>Series_title_2</th>\n",
       "      <th>Series_title_3</th>\n",
       "      <th>Series_title_4</th>\n",
       "      <th>Series_title_5</th>\n",
       "    </tr>\n",
       "  </thead>\n",
       "  <tbody>\n",
       "    <tr>\n",
       "      <th>0</th>\n",
       "      <td>MFGQ.SFA1CA</td>\n",
       "      <td>1992.12</td>\n",
       "      <td>2493.37</td>\n",
       "      <td>NaN</td>\n",
       "      <td>F</td>\n",
       "      <td>Dollars</td>\n",
       "      <td>6</td>\n",
       "      <td>Manufacturing Survey (ANZSIC06) - MFG</td>\n",
       "      <td>Industry by variable - Subannual Financial Col...</td>\n",
       "      <td>Meat and dairy product manufacturing</td>\n",
       "      <td>Sales (operating income)</td>\n",
       "      <td>Current prices</td>\n",
       "      <td>Unadjusted</td>\n",
       "      <td>NaN</td>\n",
       "    </tr>\n",
       "    <tr>\n",
       "      <th>1</th>\n",
       "      <td>MFGQ.SFA1CA</td>\n",
       "      <td>1993.03</td>\n",
       "      <td>3209.20</td>\n",
       "      <td>NaN</td>\n",
       "      <td>F</td>\n",
       "      <td>Dollars</td>\n",
       "      <td>6</td>\n",
       "      <td>Manufacturing Survey (ANZSIC06) - MFG</td>\n",
       "      <td>Industry by variable - Subannual Financial Col...</td>\n",
       "      <td>Meat and dairy product manufacturing</td>\n",
       "      <td>Sales (operating income)</td>\n",
       "      <td>Current prices</td>\n",
       "      <td>Unadjusted</td>\n",
       "      <td>NaN</td>\n",
       "    </tr>\n",
       "    <tr>\n",
       "      <th>2</th>\n",
       "      <td>MFGQ.SFA1CA</td>\n",
       "      <td>1993.06</td>\n",
       "      <td>2780.17</td>\n",
       "      <td>NaN</td>\n",
       "      <td>F</td>\n",
       "      <td>Dollars</td>\n",
       "      <td>6</td>\n",
       "      <td>Manufacturing Survey (ANZSIC06) - MFG</td>\n",
       "      <td>Industry by variable - Subannual Financial Col...</td>\n",
       "      <td>Meat and dairy product manufacturing</td>\n",
       "      <td>Sales (operating income)</td>\n",
       "      <td>Current prices</td>\n",
       "      <td>Unadjusted</td>\n",
       "      <td>NaN</td>\n",
       "    </tr>\n",
       "    <tr>\n",
       "      <th>3</th>\n",
       "      <td>MFGQ.SFA1CA</td>\n",
       "      <td>1993.09</td>\n",
       "      <td>1933.01</td>\n",
       "      <td>NaN</td>\n",
       "      <td>F</td>\n",
       "      <td>Dollars</td>\n",
       "      <td>6</td>\n",
       "      <td>Manufacturing Survey (ANZSIC06) - MFG</td>\n",
       "      <td>Industry by variable - Subannual Financial Col...</td>\n",
       "      <td>Meat and dairy product manufacturing</td>\n",
       "      <td>Sales (operating income)</td>\n",
       "      <td>Current prices</td>\n",
       "      <td>Unadjusted</td>\n",
       "      <td>NaN</td>\n",
       "    </tr>\n",
       "    <tr>\n",
       "      <th>4</th>\n",
       "      <td>MFGQ.SFA1CA</td>\n",
       "      <td>1993.12</td>\n",
       "      <td>2692.92</td>\n",
       "      <td>NaN</td>\n",
       "      <td>F</td>\n",
       "      <td>Dollars</td>\n",
       "      <td>6</td>\n",
       "      <td>Manufacturing Survey (ANZSIC06) - MFG</td>\n",
       "      <td>Industry by variable - Subannual Financial Col...</td>\n",
       "      <td>Meat and dairy product manufacturing</td>\n",
       "      <td>Sales (operating income)</td>\n",
       "      <td>Current prices</td>\n",
       "      <td>Unadjusted</td>\n",
       "      <td>NaN</td>\n",
       "    </tr>\n",
       "  </tbody>\n",
       "</table>\n",
       "</div>"
      ],
      "text/plain": [
       "  Series_reference   Period  Data_value Suppressed STATUS    UNITS  Magnitude  \\\n",
       "0      MFGQ.SFA1CA  1992.12     2493.37        NaN      F  Dollars          6   \n",
       "1      MFGQ.SFA1CA  1993.03     3209.20        NaN      F  Dollars          6   \n",
       "2      MFGQ.SFA1CA  1993.06     2780.17        NaN      F  Dollars          6   \n",
       "3      MFGQ.SFA1CA  1993.09     1933.01        NaN      F  Dollars          6   \n",
       "4      MFGQ.SFA1CA  1993.12     2692.92        NaN      F  Dollars          6   \n",
       "\n",
       "                                 Subject  \\\n",
       "0  Manufacturing Survey (ANZSIC06) - MFG   \n",
       "1  Manufacturing Survey (ANZSIC06) - MFG   \n",
       "2  Manufacturing Survey (ANZSIC06) - MFG   \n",
       "3  Manufacturing Survey (ANZSIC06) - MFG   \n",
       "4  Manufacturing Survey (ANZSIC06) - MFG   \n",
       "\n",
       "                                               Group  \\\n",
       "0  Industry by variable - Subannual Financial Col...   \n",
       "1  Industry by variable - Subannual Financial Col...   \n",
       "2  Industry by variable - Subannual Financial Col...   \n",
       "3  Industry by variable - Subannual Financial Col...   \n",
       "4  Industry by variable - Subannual Financial Col...   \n",
       "\n",
       "                         Series_title_1            Series_title_2  \\\n",
       "0  Meat and dairy product manufacturing  Sales (operating income)   \n",
       "1  Meat and dairy product manufacturing  Sales (operating income)   \n",
       "2  Meat and dairy product manufacturing  Sales (operating income)   \n",
       "3  Meat and dairy product manufacturing  Sales (operating income)   \n",
       "4  Meat and dairy product manufacturing  Sales (operating income)   \n",
       "\n",
       "   Series_title_3 Series_title_4 Series_title_5  \n",
       "0  Current prices     Unadjusted            NaN  \n",
       "1  Current prices     Unadjusted            NaN  \n",
       "2  Current prices     Unadjusted            NaN  \n",
       "3  Current prices     Unadjusted            NaN  \n",
       "4  Current prices     Unadjusted            NaN  "
      ]
     },
     "execution_count": 6,
     "metadata": {},
     "output_type": "execute_result"
    }
   ],
   "source": [
    "df.head()"
   ]
  },
  {
   "cell_type": "code",
   "execution_count": 7,
   "id": "d155f408",
   "metadata": {},
   "outputs": [],
   "source": [
    "import pandas as pd"
   ]
  },
  {
   "cell_type": "code",
   "execution_count": 8,
   "id": "d714bbca",
   "metadata": {},
   "outputs": [],
   "source": [
    "names = ['Anjali','Trisha','Ketki','Janki','Mrunal']"
   ]
  },
  {
   "cell_type": "code",
   "execution_count": 9,
   "id": "bcd3fa02",
   "metadata": {},
   "outputs": [],
   "source": [
    "grades = [76,95,77,78,99]"
   ]
  },
  {
   "cell_type": "code",
   "execution_count": 10,
   "id": "66575cea",
   "metadata": {},
   "outputs": [],
   "source": [
    "Result = zip(names, grades)"
   ]
  },
  {
   "cell_type": "code",
   "execution_count": 11,
   "id": "7f6d1b98",
   "metadata": {},
   "outputs": [],
   "source": [
    "columns = ['Names','Grades']"
   ]
  },
  {
   "cell_type": "code",
   "execution_count": 12,
   "id": "2f6a337d",
   "metadata": {},
   "outputs": [],
   "source": [
    "df = pd.DataFrame(data = Result, columns = columns)"
   ]
  },
  {
   "cell_type": "code",
   "execution_count": 13,
   "id": "b0b8992e",
   "metadata": {},
   "outputs": [
    {
     "data": {
      "text/plain": [
       "'Names,Grades\\r\\nAnjali,76\\r\\nTrisha,95\\r\\nKetki,77\\r\\nJanki,78\\r\\nMrunal,99\\r\\n'"
      ]
     },
     "execution_count": 13,
     "metadata": {},
     "output_type": "execute_result"
    }
   ],
   "source": [
    "df.to_csv(index=False)"
   ]
  },
  {
   "cell_type": "code",
   "execution_count": 14,
   "id": "fd29b387",
   "metadata": {},
   "outputs": [
    {
     "data": {
      "text/html": [
       "<div>\n",
       "<style scoped>\n",
       "    .dataframe tbody tr th:only-of-type {\n",
       "        vertical-align: middle;\n",
       "    }\n",
       "\n",
       "    .dataframe tbody tr th {\n",
       "        vertical-align: top;\n",
       "    }\n",
       "\n",
       "    .dataframe thead th {\n",
       "        text-align: right;\n",
       "    }\n",
       "</style>\n",
       "<table border=\"1\" class=\"dataframe\">\n",
       "  <thead>\n",
       "    <tr style=\"text-align: right;\">\n",
       "      <th></th>\n",
       "      <th>Names</th>\n",
       "      <th>Grades</th>\n",
       "    </tr>\n",
       "  </thead>\n",
       "  <tbody>\n",
       "    <tr>\n",
       "      <th>0</th>\n",
       "      <td>Anjali</td>\n",
       "      <td>76</td>\n",
       "    </tr>\n",
       "    <tr>\n",
       "      <th>1</th>\n",
       "      <td>Trisha</td>\n",
       "      <td>95</td>\n",
       "    </tr>\n",
       "    <tr>\n",
       "      <th>2</th>\n",
       "      <td>Ketki</td>\n",
       "      <td>77</td>\n",
       "    </tr>\n",
       "    <tr>\n",
       "      <th>3</th>\n",
       "      <td>Janki</td>\n",
       "      <td>78</td>\n",
       "    </tr>\n",
       "    <tr>\n",
       "      <th>4</th>\n",
       "      <td>Mrunal</td>\n",
       "      <td>99</td>\n",
       "    </tr>\n",
       "  </tbody>\n",
       "</table>\n",
       "</div>"
      ],
      "text/plain": [
       "    Names  Grades\n",
       "0  Anjali      76\n",
       "1  Trisha      95\n",
       "2   Ketki      77\n",
       "3   Janki      78\n",
       "4  Mrunal      99"
      ]
     },
     "execution_count": 14,
     "metadata": {},
     "output_type": "execute_result"
    }
   ],
   "source": [
    "df"
   ]
  },
  {
   "cell_type": "markdown",
   "id": "c14f4ae0",
   "metadata": {},
   "source": [
    "From Excel Sheet"
   ]
  },
  {
   "cell_type": "code",
   "execution_count": 15,
   "id": "f2b71e3d",
   "metadata": {},
   "outputs": [],
   "source": [
    "import pandas as pd"
   ]
  },
  {
   "cell_type": "code",
   "execution_count": 16,
   "id": "8c8fcf85",
   "metadata": {},
   "outputs": [],
   "source": [
    "LocationE = \"C:/Users/Bhakti/OneDrive/Desktop/PRACTICALS/FDS/FDS Datasets/FDS Datasets/Excel.xls\""
   ]
  },
  {
   "cell_type": "code",
   "execution_count": 17,
   "id": "5179d3e1",
   "metadata": {
    "scrolled": true
   },
   "outputs": [],
   "source": [
    "df = pd.read_excel(LocationE)"
   ]
  },
  {
   "cell_type": "code",
   "execution_count": 18,
   "id": "258481f6",
   "metadata": {},
   "outputs": [],
   "source": [
    "#Changing Columns Names\n",
    "df.columns = ['no.','first','last','gender','country','age','date','id']"
   ]
  },
  {
   "cell_type": "code",
   "execution_count": 19,
   "id": "42a0df50",
   "metadata": {},
   "outputs": [
    {
     "data": {
      "text/html": [
       "<div>\n",
       "<style scoped>\n",
       "    .dataframe tbody tr th:only-of-type {\n",
       "        vertical-align: middle;\n",
       "    }\n",
       "\n",
       "    .dataframe tbody tr th {\n",
       "        vertical-align: top;\n",
       "    }\n",
       "\n",
       "    .dataframe thead th {\n",
       "        text-align: right;\n",
       "    }\n",
       "</style>\n",
       "<table border=\"1\" class=\"dataframe\">\n",
       "  <thead>\n",
       "    <tr style=\"text-align: right;\">\n",
       "      <th></th>\n",
       "      <th>no.</th>\n",
       "      <th>first</th>\n",
       "      <th>last</th>\n",
       "      <th>gender</th>\n",
       "      <th>country</th>\n",
       "      <th>age</th>\n",
       "      <th>date</th>\n",
       "      <th>id</th>\n",
       "    </tr>\n",
       "  </thead>\n",
       "  <tbody>\n",
       "    <tr>\n",
       "      <th>0</th>\n",
       "      <td>1</td>\n",
       "      <td>Dulce</td>\n",
       "      <td>Abril</td>\n",
       "      <td>Female</td>\n",
       "      <td>United States</td>\n",
       "      <td>32</td>\n",
       "      <td>15/10/2017</td>\n",
       "      <td>1562</td>\n",
       "    </tr>\n",
       "    <tr>\n",
       "      <th>1</th>\n",
       "      <td>2</td>\n",
       "      <td>Mara</td>\n",
       "      <td>Hashimoto</td>\n",
       "      <td>Female</td>\n",
       "      <td>Great Britain</td>\n",
       "      <td>25</td>\n",
       "      <td>16/08/2016</td>\n",
       "      <td>1582</td>\n",
       "    </tr>\n",
       "    <tr>\n",
       "      <th>2</th>\n",
       "      <td>3</td>\n",
       "      <td>Philip</td>\n",
       "      <td>Gent</td>\n",
       "      <td>Male</td>\n",
       "      <td>France</td>\n",
       "      <td>36</td>\n",
       "      <td>21/05/2015</td>\n",
       "      <td>2587</td>\n",
       "    </tr>\n",
       "    <tr>\n",
       "      <th>3</th>\n",
       "      <td>4</td>\n",
       "      <td>Kathleen</td>\n",
       "      <td>Hanner</td>\n",
       "      <td>Female</td>\n",
       "      <td>United States</td>\n",
       "      <td>25</td>\n",
       "      <td>15/10/2017</td>\n",
       "      <td>3549</td>\n",
       "    </tr>\n",
       "    <tr>\n",
       "      <th>4</th>\n",
       "      <td>5</td>\n",
       "      <td>Nereida</td>\n",
       "      <td>Magwood</td>\n",
       "      <td>Female</td>\n",
       "      <td>United States</td>\n",
       "      <td>58</td>\n",
       "      <td>16/08/2016</td>\n",
       "      <td>2468</td>\n",
       "    </tr>\n",
       "  </tbody>\n",
       "</table>\n",
       "</div>"
      ],
      "text/plain": [
       "   no.     first       last  gender        country  age        date    id\n",
       "0    1     Dulce      Abril  Female  United States   32  15/10/2017  1562\n",
       "1    2      Mara  Hashimoto  Female  Great Britain   25  16/08/2016  1582\n",
       "2    3    Philip       Gent    Male         France   36  21/05/2015  2587\n",
       "3    4  Kathleen     Hanner  Female  United States   25  15/10/2017  3549\n",
       "4    5   Nereida    Magwood  Female  United States   58  16/08/2016  2468"
      ]
     },
     "execution_count": 19,
     "metadata": {},
     "output_type": "execute_result"
    }
   ],
   "source": [
    "df.head()"
   ]
  },
  {
   "cell_type": "code",
   "execution_count": 20,
   "id": "ca45aaac",
   "metadata": {},
   "outputs": [],
   "source": [
    "import pandas as pd"
   ]
  },
  {
   "cell_type": "code",
   "execution_count": 21,
   "id": "a0220a4e",
   "metadata": {},
   "outputs": [],
   "source": [
    "names = ['Anjali','Trisha','Ketki','Janki','Mrunal']"
   ]
  },
  {
   "cell_type": "code",
   "execution_count": 22,
   "id": "5f65d42d",
   "metadata": {},
   "outputs": [],
   "source": [
    "grades = [76,95,77,78,99]"
   ]
  },
  {
   "cell_type": "code",
   "execution_count": 23,
   "id": "0f9066fe",
   "metadata": {},
   "outputs": [],
   "source": [
    "Result = zip(names, grades)"
   ]
  },
  {
   "cell_type": "code",
   "execution_count": 24,
   "id": "a5c149dc",
   "metadata": {},
   "outputs": [],
   "source": [
    "df = pd.DataFrame(data = Result,columns = ['Names','Result'])"
   ]
  },
  {
   "cell_type": "code",
   "execution_count": 25,
   "id": "8087745e",
   "metadata": {},
   "outputs": [],
   "source": [
    "writer = pd.ExcelWriter('MiniProject.xlsx', engine = 'xlsxwriter')"
   ]
  },
  {
   "cell_type": "code",
   "execution_count": 26,
   "id": "c8789f7e",
   "metadata": {},
   "outputs": [],
   "source": [
    "df.to_excel(writer, sheet_name = 'Sheet1')"
   ]
  },
  {
   "cell_type": "code",
   "execution_count": 27,
   "id": "5027a6e7",
   "metadata": {},
   "outputs": [],
   "source": [
    "writer.save()"
   ]
  },
  {
   "cell_type": "code",
   "execution_count": 28,
   "id": "8b81c820",
   "metadata": {},
   "outputs": [
    {
     "data": {
      "text/html": [
       "<div>\n",
       "<style scoped>\n",
       "    .dataframe tbody tr th:only-of-type {\n",
       "        vertical-align: middle;\n",
       "    }\n",
       "\n",
       "    .dataframe tbody tr th {\n",
       "        vertical-align: top;\n",
       "    }\n",
       "\n",
       "    .dataframe thead th {\n",
       "        text-align: right;\n",
       "    }\n",
       "</style>\n",
       "<table border=\"1\" class=\"dataframe\">\n",
       "  <thead>\n",
       "    <tr style=\"text-align: right;\">\n",
       "      <th></th>\n",
       "      <th>Names</th>\n",
       "      <th>Result</th>\n",
       "    </tr>\n",
       "  </thead>\n",
       "  <tbody>\n",
       "    <tr>\n",
       "      <th>0</th>\n",
       "      <td>Anjali</td>\n",
       "      <td>76</td>\n",
       "    </tr>\n",
       "    <tr>\n",
       "      <th>1</th>\n",
       "      <td>Trisha</td>\n",
       "      <td>95</td>\n",
       "    </tr>\n",
       "    <tr>\n",
       "      <th>2</th>\n",
       "      <td>Ketki</td>\n",
       "      <td>77</td>\n",
       "    </tr>\n",
       "    <tr>\n",
       "      <th>3</th>\n",
       "      <td>Janki</td>\n",
       "      <td>78</td>\n",
       "    </tr>\n",
       "    <tr>\n",
       "      <th>4</th>\n",
       "      <td>Mrunal</td>\n",
       "      <td>99</td>\n",
       "    </tr>\n",
       "  </tbody>\n",
       "</table>\n",
       "</div>"
      ],
      "text/plain": [
       "    Names  Result\n",
       "0  Anjali      76\n",
       "1  Trisha      95\n",
       "2   Ketki      77\n",
       "3   Janki      78\n",
       "4  Mrunal      99"
      ]
     },
     "execution_count": 28,
     "metadata": {},
     "output_type": "execute_result"
    }
   ],
   "source": [
    "df"
   ]
  },
  {
   "cell_type": "markdown",
   "id": "c08bd1c8",
   "metadata": {},
   "source": [
    "From SQL file"
   ]
  },
  {
   "cell_type": "code",
   "execution_count": 29,
   "id": "8b66a92e",
   "metadata": {},
   "outputs": [],
   "source": [
    "import sqlite3"
   ]
  },
  {
   "cell_type": "code",
   "execution_count": 30,
   "id": "d97be70d",
   "metadata": {},
   "outputs": [],
   "source": [
    "con = sqlite3.connect(\"C:/Users/Bhakti/OneDrive/Desktop/PRACTICALS/FDS/FDS Datasets/FDS Datasets/Sqlite.sqlite\")"
   ]
  },
  {
   "cell_type": "code",
   "execution_count": 31,
   "id": "27ac258c",
   "metadata": {},
   "outputs": [],
   "source": [
    "cur = con.cursor()"
   ]
  },
  {
   "cell_type": "code",
   "execution_count": 32,
   "id": "66b43e0a",
   "metadata": {},
   "outputs": [
    {
     "name": "stdout",
     "output_type": "stream",
     "text": [
      "(1, 'AC/DC')\n",
      "(2, 'Accept')\n",
      "(3, 'Aerosmith')\n",
      "(4, 'Alanis Morissette')\n",
      "(5, 'Alice In Chains')\n",
      "(6, 'Antônio Carlos Jobim')\n",
      "(7, 'Apocalyptica')\n",
      "(8, 'Audioslave')\n",
      "(9, 'BackBeat')\n",
      "(10, 'Billy Cobham')\n",
      "(11, 'Black Label Society')\n",
      "(12, 'Black Sabbath')\n",
      "(13, 'Body Count')\n",
      "(14, 'Bruce Dickinson')\n",
      "(15, 'Buddy Guy')\n",
      "(16, 'Caetano Veloso')\n",
      "(17, 'Chico Buarque')\n",
      "(18, 'Chico Science & Nação Zumbi')\n",
      "(19, 'Cidade Negra')\n",
      "(20, 'Cláudio Zoli')\n",
      "(21, 'Various Artists')\n",
      "(22, 'Led Zeppelin')\n",
      "(23, 'Frank Zappa & Captain Beefheart')\n",
      "(24, 'Marcos Valle')\n",
      "(25, 'Milton Nascimento & Bebeto')\n",
      "(26, 'Azymuth')\n",
      "(27, 'Gilberto Gil')\n",
      "(28, 'João Gilberto')\n",
      "(29, 'Bebel Gilberto')\n",
      "(30, 'Jorge Vercilo')\n",
      "(31, 'Baby Consuelo')\n",
      "(32, 'Ney Matogrosso')\n",
      "(33, 'Luiz Melodia')\n",
      "(34, 'Nando Reis')\n",
      "(35, 'Pedro Luís & A Parede')\n",
      "(36, 'O Rappa')\n",
      "(37, 'Ed Motta')\n",
      "(38, 'Banda Black Rio')\n",
      "(39, 'Fernanda Porto')\n",
      "(40, 'Os Cariocas')\n",
      "(41, 'Elis Regina')\n",
      "(42, 'Milton Nascimento')\n",
      "(43, 'A Cor Do Som')\n",
      "(44, 'Kid Abelha')\n",
      "(45, 'Sandra De Sá')\n",
      "(46, 'Jorge Ben')\n",
      "(47, 'Hermeto Pascoal')\n",
      "(48, 'Barão Vermelho')\n",
      "(49, 'Edson, DJ Marky & DJ Patife Featuring Fernanda Porto')\n",
      "(50, 'Metallica')\n",
      "(51, 'Queen')\n",
      "(52, 'Kiss')\n",
      "(53, 'Spyro Gyra')\n",
      "(54, 'Green Day')\n",
      "(55, 'David Coverdale')\n",
      "(56, 'Gonzaguinha')\n",
      "(57, 'Os Mutantes')\n",
      "(58, 'Deep Purple')\n",
      "(59, 'Santana')\n",
      "(60, 'Santana Feat. Dave Matthews')\n",
      "(61, 'Santana Feat. Everlast')\n",
      "(62, 'Santana Feat. Rob Thomas')\n",
      "(63, 'Santana Feat. Lauryn Hill & Cee-Lo')\n",
      "(64, 'Santana Feat. The Project G&B')\n",
      "(65, 'Santana Feat. Maná')\n",
      "(66, 'Santana Feat. Eagle-Eye Cherry')\n",
      "(67, 'Santana Feat. Eric Clapton')\n",
      "(68, 'Miles Davis')\n",
      "(69, 'Gene Krupa')\n",
      "(70, 'Toquinho & Vinícius')\n",
      "(71, 'Vinícius De Moraes & Baden Powell')\n",
      "(72, 'Vinícius De Moraes')\n",
      "(73, 'Vinícius E Qurteto Em Cy')\n",
      "(74, 'Vinícius E Odette Lara')\n",
      "(75, 'Vinicius, Toquinho & Quarteto Em Cy')\n",
      "(76, 'Creedence Clearwater Revival')\n",
      "(77, 'Cássia Eller')\n",
      "(78, 'Def Leppard')\n",
      "(79, 'Dennis Chambers')\n",
      "(80, 'Djavan')\n",
      "(81, 'Eric Clapton')\n",
      "(82, 'Faith No More')\n",
      "(83, 'Falamansa')\n",
      "(84, 'Foo Fighters')\n",
      "(85, 'Frank Sinatra')\n",
      "(86, 'Funk Como Le Gusta')\n",
      "(87, 'Godsmack')\n",
      "(88, \"Guns N' Roses\")\n",
      "(89, 'Incognito')\n",
      "(90, 'Iron Maiden')\n",
      "(91, 'James Brown')\n",
      "(92, 'Jamiroquai')\n",
      "(93, 'JET')\n",
      "(94, 'Jimi Hendrix')\n",
      "(95, 'Joe Satriani')\n",
      "(96, 'Jota Quest')\n",
      "(97, 'João Suplicy')\n",
      "(98, 'Judas Priest')\n",
      "(99, 'Legião Urbana')\n",
      "(100, 'Lenny Kravitz')\n",
      "(101, 'Lulu Santos')\n",
      "(102, 'Marillion')\n",
      "(103, 'Marisa Monte')\n",
      "(104, 'Marvin Gaye')\n",
      "(105, 'Men At Work')\n",
      "(106, 'Motörhead')\n",
      "(107, 'Motörhead & Girlschool')\n",
      "(108, 'Mônica Marianno')\n",
      "(109, 'Mötley Crüe')\n",
      "(110, 'Nirvana')\n",
      "(111, 'O Terço')\n",
      "(112, 'Olodum')\n",
      "(113, 'Os Paralamas Do Sucesso')\n",
      "(114, 'Ozzy Osbourne')\n",
      "(115, 'Page & Plant')\n",
      "(116, 'Passengers')\n",
      "(117, \"Paul D'Ianno\")\n",
      "(118, 'Pearl Jam')\n",
      "(119, 'Peter Tosh')\n",
      "(120, 'Pink Floyd')\n",
      "(121, 'Planet Hemp')\n",
      "(122, 'R.E.M. Feat. Kate Pearson')\n",
      "(123, 'R.E.M. Feat. KRS-One')\n",
      "(124, 'R.E.M.')\n",
      "(125, 'Raimundos')\n",
      "(126, 'Raul Seixas')\n",
      "(127, 'Red Hot Chili Peppers')\n",
      "(128, 'Rush')\n",
      "(129, 'Simply Red')\n",
      "(130, 'Skank')\n",
      "(131, 'Smashing Pumpkins')\n",
      "(132, 'Soundgarden')\n",
      "(133, 'Stevie Ray Vaughan & Double Trouble')\n",
      "(134, 'Stone Temple Pilots')\n",
      "(135, 'System Of A Down')\n",
      "(136, 'Terry Bozzio, Tony Levin & Steve Stevens')\n",
      "(137, 'The Black Crowes')\n",
      "(138, 'The Clash')\n",
      "(139, 'The Cult')\n",
      "(140, 'The Doors')\n",
      "(141, 'The Police')\n",
      "(142, 'The Rolling Stones')\n",
      "(143, 'The Tea Party')\n",
      "(144, 'The Who')\n",
      "(145, 'Tim Maia')\n",
      "(146, 'Titãs')\n",
      "(147, 'Battlestar Galactica')\n",
      "(148, 'Heroes')\n",
      "(149, 'Lost')\n",
      "(150, 'U2')\n",
      "(151, 'UB40')\n",
      "(152, 'Van Halen')\n",
      "(153, 'Velvet Revolver')\n",
      "(154, 'Whitesnake')\n",
      "(155, 'Zeca Pagodinho')\n",
      "(156, 'The Office')\n",
      "(157, 'Dread Zeppelin')\n",
      "(158, 'Battlestar Galactica (Classic)')\n",
      "(159, 'Aquaman')\n",
      "(160, 'Christina Aguilera featuring BigElf')\n",
      "(161, \"Aerosmith & Sierra Leone's Refugee Allstars\")\n",
      "(162, 'Los Lonely Boys')\n",
      "(163, 'Corinne Bailey Rae')\n",
      "(164, 'Dhani Harrison & Jakob Dylan')\n",
      "(165, 'Jackson Browne')\n",
      "(166, 'Avril Lavigne')\n",
      "(167, 'Big & Rich')\n",
      "(168, \"Youssou N'Dour\")\n",
      "(169, 'Black Eyed Peas')\n",
      "(170, 'Jack Johnson')\n",
      "(171, 'Ben Harper')\n",
      "(172, 'Snow Patrol')\n",
      "(173, 'Matisyahu')\n",
      "(174, 'The Postal Service')\n",
      "(175, 'Jaguares')\n",
      "(176, 'The Flaming Lips')\n",
      "(177, \"Jack's Mannequin & Mick Fleetwood\")\n",
      "(178, 'Regina Spektor')\n",
      "(179, 'Scorpions')\n",
      "(180, 'House Of Pain')\n",
      "(181, 'Xis')\n",
      "(182, 'Nega Gizza')\n",
      "(183, 'Gustavo & Andres Veiga & Salazar')\n",
      "(184, 'Rodox')\n",
      "(185, 'Charlie Brown Jr.')\n",
      "(186, 'Pedro Luís E A Parede')\n",
      "(187, 'Los Hermanos')\n",
      "(188, 'Mundo Livre S/A')\n",
      "(189, 'Otto')\n",
      "(190, 'Instituto')\n",
      "(191, 'Nação Zumbi')\n",
      "(192, 'DJ Dolores & Orchestra Santa Massa')\n",
      "(193, 'Seu Jorge')\n",
      "(194, 'Sabotage E Instituto')\n",
      "(195, 'Stereo Maracana')\n",
      "(196, 'Cake')\n",
      "(197, 'Aisha Duo')\n",
      "(198, 'Habib Koité and Bamada')\n",
      "(199, 'Karsh Kale')\n",
      "(200, 'The Posies')\n",
      "(201, 'Luciana Souza/Romero Lubambo')\n",
      "(202, 'Aaron Goldberg')\n",
      "(203, 'Nicolaus Esterhazy Sinfonia')\n",
      "(204, 'Temple of the Dog')\n",
      "(205, 'Chris Cornell')\n",
      "(206, 'Alberto Turco & Nova Schola Gregoriana')\n",
      "(207, 'Richard Marlow & The Choir of Trinity College, Cambridge')\n",
      "(208, 'English Concert & Trevor Pinnock')\n",
      "(209, 'Anne-Sophie Mutter, Herbert Von Karajan & Wiener Philharmoniker')\n",
      "(210, 'Hilary Hahn, Jeffrey Kahane, Los Angeles Chamber Orchestra & Margaret Batjer')\n",
      "(211, 'Wilhelm Kempff')\n",
      "(212, 'Yo-Yo Ma')\n",
      "(213, 'Scholars Baroque Ensemble')\n",
      "(214, 'Academy of St. Martin in the Fields & Sir Neville Marriner')\n",
      "(215, 'Academy of St. Martin in the Fields Chamber Ensemble & Sir Neville Marriner')\n",
      "(216, 'Berliner Philharmoniker, Claudio Abbado & Sabine Meyer')\n",
      "(217, 'Royal Philharmonic Orchestra & Sir Thomas Beecham')\n",
      "(218, 'Orchestre Révolutionnaire et Romantique & John Eliot Gardiner')\n",
      "(219, 'Britten Sinfonia, Ivor Bolton & Lesley Garrett')\n",
      "(220, 'Chicago Symphony Chorus, Chicago Symphony Orchestra & Sir Georg Solti')\n",
      "(221, 'Sir Georg Solti & Wiener Philharmoniker')\n",
      "(222, 'Academy of St. Martin in the Fields, John Birch, Sir Neville Marriner & Sylvia McNair')\n",
      "(223, 'London Symphony Orchestra & Sir Charles Mackerras')\n",
      "(224, 'Barry Wordsworth & BBC Concert Orchestra')\n",
      "(225, 'Herbert Von Karajan, Mirella Freni & Wiener Philharmoniker')\n",
      "(226, 'Eugene Ormandy')\n",
      "(227, 'Luciano Pavarotti')\n",
      "(228, 'Leonard Bernstein & New York Philharmonic')\n",
      "(229, 'Boston Symphony Orchestra & Seiji Ozawa')\n",
      "(230, 'Aaron Copland & London Symphony Orchestra')\n",
      "(231, 'Ton Koopman')\n",
      "(232, 'Sergei Prokofiev & Yuri Temirkanov')\n",
      "(233, 'Chicago Symphony Orchestra & Fritz Reiner')\n",
      "(234, 'Orchestra of The Age of Enlightenment')\n",
      "(235, 'Emanuel Ax, Eugene Ormandy & Philadelphia Orchestra')\n",
      "(236, 'James Levine')\n",
      "(237, 'Berliner Philharmoniker & Hans Rosbaud')\n",
      "(238, 'Maurizio Pollini')\n",
      "(239, 'Academy of St. Martin in the Fields, Sir Neville Marriner & William Bennett')\n",
      "(240, 'Gustav Mahler')\n",
      "(241, 'Felix Schmidt, London Symphony Orchestra & Rafael Frühbeck de Burgos')\n",
      "(242, 'Edo de Waart & San Francisco Symphony')\n",
      "(243, 'Antal Doráti & London Symphony Orchestra')\n",
      "(244, 'Choir Of Westminster Abbey & Simon Preston')\n",
      "(245, 'Michael Tilson Thomas & San Francisco Symphony')\n",
      "(246, 'Chor der Wiener Staatsoper, Herbert Von Karajan & Wiener Philharmoniker')\n",
      "(247, \"The King's Singers\")\n",
      "(248, 'Berliner Philharmoniker & Herbert Von Karajan')\n",
      "(249, 'Sir Georg Solti, Sumi Jo & Wiener Philharmoniker')\n",
      "(250, \"Christopher O'Riley\")\n",
      "(251, 'Fretwork')\n",
      "(252, 'Amy Winehouse')\n",
      "(253, 'Calexico')\n",
      "(254, 'Otto Klemperer & Philharmonia Orchestra')\n",
      "(255, 'Yehudi Menuhin')\n",
      "(256, 'Philharmonia Orchestra & Sir Neville Marriner')\n",
      "(257, 'Academy of St. Martin in the Fields, Sir Neville Marriner & Thurston Dart')\n",
      "(258, 'Les Arts Florissants & William Christie')\n",
      "(259, 'The 12 Cellists of The Berlin Philharmonic')\n",
      "(260, 'Adrian Leaper & Doreen de Feis')\n",
      "(261, 'Roger Norrington, London Classical Players')\n",
      "(262, \"Charles Dutoit & L'Orchestre Symphonique de Montréal\")\n",
      "(263, 'Equale Brass Ensemble, John Eliot Gardiner & Munich Monteverdi Orchestra and Choir')\n",
      "(264, \"Kent Nagano and Orchestre de l'Opéra de Lyon\")\n",
      "(265, 'Julian Bream')\n",
      "(266, 'Martin Roscoe')\n",
      "(267, 'Göteborgs Symfoniker & Neeme Järvi')\n",
      "(268, 'Itzhak Perlman')\n",
      "(269, 'Michele Campanella')\n",
      "(270, 'Gerald Moore')\n",
      "(271, 'Mela Tenenbaum, Pro Musica Prague & Richard Kapp')\n",
      "(272, 'Emerson String Quartet')\n",
      "(273, 'C. Monteverdi, Nigel Rogers - Chiaroscuro; London Baroque; London Cornett & Sackbu')\n",
      "(274, 'Nash Ensemble')\n",
      "(275, 'Philip Glass Ensemble')\n"
     ]
    }
   ],
   "source": [
    "for row in cur.execute('SELECT * FROM Artist;'):\n",
    "    print(row)"
   ]
  },
  {
   "cell_type": "code",
   "execution_count": 33,
   "id": "b99888e6",
   "metadata": {},
   "outputs": [],
   "source": [
    "con.close()"
   ]
  },
  {
   "cell_type": "code",
   "execution_count": 34,
   "id": "79e68343",
   "metadata": {},
   "outputs": [],
   "source": [
    "import sqlite3"
   ]
  },
  {
   "cell_type": "code",
   "execution_count": 35,
   "id": "cb9157b8",
   "metadata": {},
   "outputs": [],
   "source": [
    "con = sqlite3.connect(\"C:/Users/Bhakti/OneDrive/Desktop/PRACTICALS/FDS/FDS Datasets/FDS Datasets/Sqlite.sqlite\")"
   ]
  },
  {
   "cell_type": "code",
   "execution_count": 36,
   "id": "32edb79e",
   "metadata": {},
   "outputs": [],
   "source": [
    "cur = con.cursor()"
   ]
  },
  {
   "cell_type": "code",
   "execution_count": 37,
   "id": "32b92c36",
   "metadata": {},
   "outputs": [
    {
     "name": "stdout",
     "output_type": "stream",
     "text": [
      "[('Fernanda Porto',)]\n"
     ]
    }
   ],
   "source": [
    "cur.execute('SELECT Name FROM Artist WHERE ArtistId=\"39\"')\n",
    "print(cur.fetchall())"
   ]
  },
  {
   "cell_type": "code",
   "execution_count": 38,
   "id": "d5dad5a4",
   "metadata": {},
   "outputs": [
    {
     "name": "stdout",
     "output_type": "stream",
     "text": [
      "('Fernanda Porto',)\n"
     ]
    }
   ],
   "source": [
    "cur.execute('SELECT Name FROM Artist WHERE ArtistId=\"39\"')\n",
    "print(cur.fetchone())"
   ]
  },
  {
   "cell_type": "code",
   "execution_count": 39,
   "id": "3acda95b",
   "metadata": {},
   "outputs": [],
   "source": [
    "con.close()"
   ]
  },
  {
   "cell_type": "code",
   "execution_count": 40,
   "id": "a39b4a72",
   "metadata": {},
   "outputs": [],
   "source": [
    "from pandas import DataFrame"
   ]
  },
  {
   "cell_type": "code",
   "execution_count": 41,
   "id": "3c44161a",
   "metadata": {},
   "outputs": [],
   "source": [
    "Results = {'Names':['Anjali','Trisha','Ketki','Janki','Mrunal'],\n",
    "       'Grades':[76,95,77,78,99]}"
   ]
  },
  {
   "cell_type": "code",
   "execution_count": 42,
   "id": "44e679cf",
   "metadata": {},
   "outputs": [],
   "source": [
    "df = DataFrame(Results,columns=['Names','Grades'])  "
   ]
  },
  {
   "cell_type": "code",
   "execution_count": 43,
   "id": "daea0e69",
   "metadata": {},
   "outputs": [
    {
     "data": {
      "text/html": [
       "<div>\n",
       "<style scoped>\n",
       "    .dataframe tbody tr th:only-of-type {\n",
       "        vertical-align: middle;\n",
       "    }\n",
       "\n",
       "    .dataframe tbody tr th {\n",
       "        vertical-align: top;\n",
       "    }\n",
       "\n",
       "    .dataframe thead th {\n",
       "        text-align: right;\n",
       "    }\n",
       "</style>\n",
       "<table border=\"1\" class=\"dataframe\">\n",
       "  <thead>\n",
       "    <tr style=\"text-align: right;\">\n",
       "      <th></th>\n",
       "      <th>Names</th>\n",
       "      <th>Grades</th>\n",
       "    </tr>\n",
       "  </thead>\n",
       "  <tbody>\n",
       "    <tr>\n",
       "      <th>0</th>\n",
       "      <td>Anjali</td>\n",
       "      <td>76</td>\n",
       "    </tr>\n",
       "    <tr>\n",
       "      <th>1</th>\n",
       "      <td>Trisha</td>\n",
       "      <td>95</td>\n",
       "    </tr>\n",
       "    <tr>\n",
       "      <th>2</th>\n",
       "      <td>Ketki</td>\n",
       "      <td>77</td>\n",
       "    </tr>\n",
       "    <tr>\n",
       "      <th>3</th>\n",
       "      <td>Janki</td>\n",
       "      <td>78</td>\n",
       "    </tr>\n",
       "    <tr>\n",
       "      <th>4</th>\n",
       "      <td>Mrunal</td>\n",
       "      <td>99</td>\n",
       "    </tr>\n",
       "  </tbody>\n",
       "</table>\n",
       "</div>"
      ],
      "text/plain": [
       "    Names  Grades\n",
       "0  Anjali      76\n",
       "1  Trisha      95\n",
       "2   Ketki      77\n",
       "3   Janki      78\n",
       "4  Mrunal      99"
      ]
     },
     "execution_count": 43,
     "metadata": {},
     "output_type": "execute_result"
    }
   ],
   "source": [
    "df"
   ]
  },
  {
   "cell_type": "code",
   "execution_count": 44,
   "id": "f72cda2d",
   "metadata": {},
   "outputs": [],
   "source": [
    "import sqlite3"
   ]
  },
  {
   "cell_type": "code",
   "execution_count": 45,
   "id": "c7234d80",
   "metadata": {},
   "outputs": [],
   "source": [
    "conn = sqlite3.connect('MiniProject.db')"
   ]
  },
  {
   "cell_type": "code",
   "execution_count": 46,
   "id": "af6c157b",
   "metadata": {},
   "outputs": [],
   "source": [
    "c = conn.cursor()"
   ]
  },
  {
   "cell_type": "code",
   "execution_count": 47,
   "id": "868cd852",
   "metadata": {},
   "outputs": [
    {
     "ename": "OperationalError",
     "evalue": "table MiniProject already exists",
     "output_type": "error",
     "traceback": [
      "\u001b[1;31m---------------------------------------------------------------------------\u001b[0m",
      "\u001b[1;31mOperationalError\u001b[0m                          Traceback (most recent call last)",
      "\u001b[1;32m~\\AppData\\Local\\Temp/ipykernel_14020/2510515779.py\u001b[0m in \u001b[0;36m<module>\u001b[1;34m\u001b[0m\n\u001b[1;32m----> 1\u001b[1;33m \u001b[0mc\u001b[0m\u001b[1;33m.\u001b[0m\u001b[0mexecute\u001b[0m\u001b[1;33m(\u001b[0m\u001b[1;34m'CREATE TABLE MiniProject(Names text, Grades number)'\u001b[0m\u001b[1;33m)\u001b[0m\u001b[1;33m\u001b[0m\u001b[1;33m\u001b[0m\u001b[0m\n\u001b[0m\u001b[0;32m      2\u001b[0m \u001b[0mconn\u001b[0m\u001b[1;33m.\u001b[0m\u001b[0mcommit\u001b[0m\u001b[1;33m(\u001b[0m\u001b[1;33m)\u001b[0m\u001b[1;33m\u001b[0m\u001b[1;33m\u001b[0m\u001b[0m\n",
      "\u001b[1;31mOperationalError\u001b[0m: table MiniProject already exists"
     ]
    }
   ],
   "source": [
    "c.execute('CREATE TABLE MiniProject(Names text, Grades number)')\n",
    "conn.commit()"
   ]
  },
  {
   "cell_type": "code",
   "execution_count": 48,
   "id": "2f8488f3",
   "metadata": {},
   "outputs": [],
   "source": [
    "df.to_sql('MiniProject',conn,if_exists='replace',index=False)"
   ]
  },
  {
   "cell_type": "code",
   "execution_count": 49,
   "id": "6c8faf48",
   "metadata": {},
   "outputs": [],
   "source": [
    "c.execute('''SELECT Names,max(Grades) from MiniProject''')\n",
    "conn.commit()"
   ]
  },
  {
   "cell_type": "code",
   "execution_count": 50,
   "id": "35d57601",
   "metadata": {},
   "outputs": [],
   "source": [
    "df = DataFrame(c.fetchall(),columns=['Names','Grades'])"
   ]
  },
  {
   "cell_type": "code",
   "execution_count": 51,
   "id": "0bca3c00",
   "metadata": {},
   "outputs": [
    {
     "data": {
      "text/html": [
       "<div>\n",
       "<style scoped>\n",
       "    .dataframe tbody tr th:only-of-type {\n",
       "        vertical-align: middle;\n",
       "    }\n",
       "\n",
       "    .dataframe tbody tr th {\n",
       "        vertical-align: top;\n",
       "    }\n",
       "\n",
       "    .dataframe thead th {\n",
       "        text-align: right;\n",
       "    }\n",
       "</style>\n",
       "<table border=\"1\" class=\"dataframe\">\n",
       "  <thead>\n",
       "    <tr style=\"text-align: right;\">\n",
       "      <th></th>\n",
       "      <th>Names</th>\n",
       "      <th>Grades</th>\n",
       "    </tr>\n",
       "  </thead>\n",
       "  <tbody>\n",
       "    <tr>\n",
       "      <th>0</th>\n",
       "      <td>Mrunal</td>\n",
       "      <td>99</td>\n",
       "    </tr>\n",
       "  </tbody>\n",
       "</table>\n",
       "</div>"
      ],
      "text/plain": [
       "    Names  Grades\n",
       "0  Mrunal      99"
      ]
     },
     "execution_count": 51,
     "metadata": {},
     "output_type": "execute_result"
    }
   ],
   "source": [
    "df"
   ]
  }
 ],
 "metadata": {
  "kernelspec": {
   "display_name": "Python 3 (ipykernel)",
   "language": "python",
   "name": "python3"
  },
  "language_info": {
   "codemirror_mode": {
    "name": "ipython",
    "version": 3
   },
   "file_extension": ".py",
   "mimetype": "text/x-python",
   "name": "python",
   "nbconvert_exporter": "python",
   "pygments_lexer": "ipython3",
   "version": "3.9.0"
  }
 },
 "nbformat": 4,
 "nbformat_minor": 5
}
